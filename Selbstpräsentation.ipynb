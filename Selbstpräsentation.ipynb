{
 "cells": [
  {
   "cell_type": "markdown",
   "id": "44831316-cafe-4922-8274-cbaab6f622c4",
   "metadata": {},
   "source": [
    "<div style=\"float:left\"> <img src=\"images/OlgaLalakulich-medium.jpg\" alt=\"Foto von Olga Lalakulich\" width=\"150\"/> &nbsp;  &nbsp; </div>\n",
    "\n",
    "## Olga Lalakulich\n",
    "### Data Scientist\n",
    "\n",
    ">> **Machine Learning**\n",
    "\n",
    ">> **Big Data**\n",
    "\n",
    "#### Ich bringe Ergebnisse. Im Bereich Machine Learning und Big Data.\n",
    "\n",
    "<p>\n",
    "\n",
    "<hr>"
   ]
  },
  {
   "cell_type": "markdown",
   "id": "7c6b619d-572d-463e-a87c-9d2ba5d0f8cd",
   "metadata": {},
   "source": [
    "### Das ist doch keine PowerPoint !?\n",
    "\n",
    "### Stimmt. Meine Tools für Präsentation und Dokumntation sind: \n",
    "* Markdown\n",
    "* HTML\n",
    "\n",
    "### Ich suche Business-Nutzer\n",
    "* mit Business-Wünschen (im Bereich Machine Learning und Big Data) \n",
    "* mit PowerPoint Kentnissen\n",
    "\n",
    "#### Dann mache ich Ihr Wünsche wahr und Sie erstellen PowerPoint\n",
    "<hr>"
   ]
  },
  {
   "cell_type": "markdown",
   "id": "32002de7-1158-4e6f-98ed-60d8e01a8186",
   "metadata": {},
   "source": [
    "Ich habe erlebt, wie die Erkenntnisse, die ich von Daten abgeleitet habe, zu besseren Ergebnissen geführt haben. \n",
    "\n",
    "Deshalb suche ich weitere Möglichkeiten den Kunden damit zu helfen \n",
    "\n",
    "    * Ihre Business-Wünsche und -Träume auf die Sprache von Machine Learning zu übersetzen \n",
    "    * und dadurch Ihre Ideen zu verwirklichen. "
   ]
  },
  {
   "cell_type": "markdown",
   "id": "9fb60583-1a37-4690-9383-c6727533462b",
   "metadata": {},
   "source": [
    "\n",
    "<div style=\"float:center\"> <img src=\"images/AnzahlZuschauer.png\" alt=\"Beispiel Business-Wunsch\" width=\"600\"/> </div>\n"
   ]
  },
  {
   "cell_type": "markdown",
   "id": "310300f0-a475-41f9-82d4-2fdd07bb36d4",
   "metadata": {},
   "source": [
    "Ich beginne alle Aufgaben mit dem Dialog zu Business-Nutzer und Erstellung des Konzepts von Grund auf. \n",
    "\n",
    "Wie? \n",
    "\n",
    "Schauen Sie ein Beispiel [https://github.com/olalakul/turbofan-predictRUL](https://github.com/olalakul/turbofan-predictRUL)"
   ]
  },
  {
   "cell_type": "markdown",
   "id": "387b9531-4e3a-4e5b-aed9-7a258bdfc036",
   "metadata": {},
   "source": [
    "Zusammen mit Data Engineers bereite ich die Daten vor. So kann die Datenstrecke aussehen\n",
    "    \n",
    "    vertrauliche Informationen unkenntlich gemacht\n",
    "\n",
    "<div style=\"float:center\"> <img src=\"images/Datenstrecke.png\" alt=\"Beispiel Datenstrecke\" width=\"700\"/> </div>"
   ]
  },
  {
   "cell_type": "markdown",
   "id": "74bcdc1b-2240-4716-9f36-322f1ad040da",
   "metadata": {},
   "source": [
    "Danach gestalte ich Analysen, finde Lösungen stelle das Projekt zur produktiven Nutzung zusammen.\n",
    "\n",
    "Here sind meine Werkzeuge\n",
    "\n",
    "<div style=\"float:center\"> <img src=\"images/Tools.png\" alt=\"Beispiel Datenstrecke\" width=\"600\"/> </div>"
   ]
  },
  {
   "cell_type": "markdown",
   "id": "73d85576-d4f6-4205-a127-6b75ec044e34",
   "metadata": {},
   "source": [
    "<hr>\n",
    "\n",
    "Manchmal besteht das Ergebnis in einer HTML-Webseite mit interaktiven Visualisierungen.\n",
    "\n",
    "#### Beispiele mit open-source data\n",
    "\n",
    "[Which of my customers are similar?](http://wholesalecustomer-similarcustomers.s3-website.us-east-2.amazonaws.com/)\n",
    "\n",
    "[Whom do I offer more frozen products?](http://wholesalecustomer-whomsellmorefrozenproducts.s3-website.us-east-2.amazonaws.com/)\n",
    "\n",
    "<div style=\"float:center\"> <img src=\"images/SimilarCustomers-total.png\" alt=\"Beispiel Similar Customers\" width=\"600\"/> </div>\n",
    "\n",
    "#### Wollen Sie mehr mathematische details? Hier ist die [Explorative Analyse](http://wholesalecustomer-multivariateanalysis.s3-website.us-east-2.amazonaws.com/)\n",
    "\n",
    "<hr>"
   ]
  },
  {
   "cell_type": "markdown",
   "id": "66c0263a-4d0d-4532-8c95-d94070a7bd57",
   "metadata": {},
   "source": [
    "#### Sind sie Business-Nutzer?\n",
    "\n",
    "#### Haben Sie Business-Ziele und Business-Wünsche?\n",
    "\n",
    "### Dann suche ich Sie. \n",
    "\n",
    "### Ich bringe End-to-End Lösungen. \n",
    "\n",
    "### Ich mache Ihr Business-Wünsche wahr."
   ]
  }
 ],
 "metadata": {
  "kernelspec": {
   "display_name": "Python 3",
   "language": "python",
   "name": "python3"
  },
  "language_info": {
   "codemirror_mode": {
    "name": "ipython",
    "version": 3
   },
   "file_extension": ".py",
   "mimetype": "text/x-python",
   "name": "python",
   "nbconvert_exporter": "python",
   "pygments_lexer": "ipython3",
   "version": "3.9.5"
  }
 },
 "nbformat": 4,
 "nbformat_minor": 5
}
